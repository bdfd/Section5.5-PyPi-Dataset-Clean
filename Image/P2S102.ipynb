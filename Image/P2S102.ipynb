{
  "nbformat": 4,
  "nbformat_minor": 0,
  "metadata": {
    "colab": {
      "provenance": []
    },
    "kernelspec": {
      "name": "python3",
      "display_name": "Python 3"
    },
    "language_info": {
      "name": "python"
    }
  },
  "cells": [
    {
      "cell_type": "code",
      "source": [
        "!pip install execdata"
      ],
      "metadata": {
        "colab": {
          "base_uri": "https://localhost:8080/"
        },
        "id": "j7M27DBkgHRe",
        "outputId": "0282d4c9-f20f-45b3-fa0a-80d83cda9fad"
      },
      "execution_count": 1,
      "outputs": [
        {
          "output_type": "stream",
          "name": "stdout",
          "text": [
            "Collecting execdata\n",
            "  Downloading execdata-5.2.0-py3-none-any.whl (15 kB)\n",
            "Installing collected packages: execdata\n",
            "Successfully installed execdata-5.2.0\n"
          ]
        }
      ]
    },
    {
      "cell_type": "code",
      "execution_count": 3,
      "metadata": {
        "id": "Elc53YUBfcfs"
      },
      "outputs": [],
      "source": [
        "import pandas as pd\n",
        "import numpy as np\n",
        "import execdata as exe"
      ]
    },
    {
      "cell_type": "code",
      "source": [
        "df = pd.read_csv(\n",
        "    'https://raw.githubusercontent.com/bdfd/Section6.Project03-House_Price_Prediction/main/1.0%20dataset/train.csv', encoding='utf-8')\n",
        "target_feature = 'SalePrice'"
      ],
      "metadata": {
        "id": "yq__yx3BgRaa"
      },
      "execution_count": 4,
      "outputs": []
    },
    {
      "cell_type": "code",
      "source": [
        "print(f'the dataset_1 size is {df.shape} and target feature is {target_feature}')"
      ],
      "metadata": {
        "colab": {
          "base_uri": "https://localhost:8080/"
        },
        "id": "pmOAsdXAgUov",
        "outputId": "1753e6ee-efc1-4e79-d3a1-a9ccc72d341d"
      },
      "execution_count": 6,
      "outputs": [
        {
          "output_type": "stream",
          "name": "stdout",
          "text": [
            "the dataset_1 size is (1460, 81) and target feature is SalePrice\n"
          ]
        }
      ]
    },
    {
      "cell_type": "code",
      "source": [
        "# list of numerical variables\n",
        "numerical_features = exe.eda.numerical_features_list(df)"
      ],
      "metadata": {
        "colab": {
          "base_uri": "https://localhost:8080/"
        },
        "id": "LYObocmzgWlH",
        "outputId": "5637bfe4-54c7-4041-de80-bf1e8475e081"
      },
      "execution_count": 12,
      "outputs": [
        {
          "output_type": "stream",
          "name": "stdout",
          "text": [
            "Number of Numerical Variables: 38\n",
            "   Id  MSSubClass  LotFrontage  LotArea  OverallQual  OverallCond  YearBuilt  \\\n",
            "0   1          60         65.0     8450            7            5       2003   \n",
            "1   2          20         80.0     9600            6            8       1976   \n",
            "2   3          60         68.0    11250            7            5       2001   \n",
            "3   4          70         60.0     9550            7            5       1915   \n",
            "4   5          60         84.0    14260            8            5       2000   \n",
            "\n",
            "   YearRemodAdd  MasVnrArea  BsmtFinSF1  ...  WoodDeckSF  OpenPorchSF  \\\n",
            "0          2003       196.0         706  ...           0           61   \n",
            "1          1976         0.0         978  ...         298            0   \n",
            "2          2002       162.0         486  ...           0           42   \n",
            "3          1970         0.0         216  ...           0           35   \n",
            "4          2000       350.0         655  ...         192           84   \n",
            "\n",
            "   EnclosedPorch  3SsnPorch  ScreenPorch  PoolArea  MiscVal  MoSold  YrSold  \\\n",
            "0              0          0            0         0        0       2    2008   \n",
            "1              0          0            0         0        0       5    2007   \n",
            "2              0          0            0         0        0       9    2008   \n",
            "3            272          0            0         0        0       2    2006   \n",
            "4              0          0            0         0        0      12    2008   \n",
            "\n",
            "   SalePrice  \n",
            "0     208500  \n",
            "1     181500  \n",
            "2     223500  \n",
            "3     140000  \n",
            "4     250000  \n",
            "\n",
            "[5 rows x 38 columns]\n"
          ]
        }
      ]
    },
    {
      "cell_type": "code",
      "source": [
        "numerical_features"
      ],
      "metadata": {
        "colab": {
          "base_uri": "https://localhost:8080/"
        },
        "id": "FhgivbAEgi9W",
        "outputId": "9b58fafd-b5fc-49c4-c2f4-c2bae69c0c2d"
      },
      "execution_count": 13,
      "outputs": [
        {
          "output_type": "execute_result",
          "data": {
            "text/plain": [
              "['Id',\n",
              " 'MSSubClass',\n",
              " 'LotFrontage',\n",
              " 'LotArea',\n",
              " 'OverallQual',\n",
              " 'OverallCond',\n",
              " 'YearBuilt',\n",
              " 'YearRemodAdd',\n",
              " 'MasVnrArea',\n",
              " 'BsmtFinSF1',\n",
              " 'BsmtFinSF2',\n",
              " 'BsmtUnfSF',\n",
              " 'TotalBsmtSF',\n",
              " '1stFlrSF',\n",
              " '2ndFlrSF',\n",
              " 'LowQualFinSF',\n",
              " 'GrLivArea',\n",
              " 'BsmtFullBath',\n",
              " 'BsmtHalfBath',\n",
              " 'FullBath',\n",
              " 'HalfBath',\n",
              " 'BedroomAbvGr',\n",
              " 'KitchenAbvGr',\n",
              " 'TotRmsAbvGrd',\n",
              " 'Fireplaces',\n",
              " 'GarageYrBlt',\n",
              " 'GarageCars',\n",
              " 'GarageArea',\n",
              " 'WoodDeckSF',\n",
              " 'OpenPorchSF',\n",
              " 'EnclosedPorch',\n",
              " '3SsnPorch',\n",
              " 'ScreenPorch',\n",
              " 'PoolArea',\n",
              " 'MiscVal',\n",
              " 'MoSold',\n",
              " 'YrSold',\n",
              " 'SalePrice']"
            ]
          },
          "metadata": {},
          "execution_count": 13
        }
      ]
    },
    {
      "cell_type": "code",
      "source": [
        "categorical_features = exe.eda.categorical_features_list(df)"
      ],
      "metadata": {
        "colab": {
          "base_uri": "https://localhost:8080/"
        },
        "id": "0pQ86KxTgaIc",
        "outputId": "314e16cd-e03f-4c31-d2ec-837bc45238bb"
      },
      "execution_count": 14,
      "outputs": [
        {
          "output_type": "stream",
          "name": "stdout",
          "text": [
            "Number of Categorical Variables: 43\n",
            "  MSZoning Street Alley LotShape LandContour Utilities LotConfig LandSlope  \\\n",
            "0       RL   Pave   NaN      Reg         Lvl    AllPub    Inside       Gtl   \n",
            "1       RL   Pave   NaN      Reg         Lvl    AllPub       FR2       Gtl   \n",
            "2       RL   Pave   NaN      IR1         Lvl    AllPub    Inside       Gtl   \n",
            "3       RL   Pave   NaN      IR1         Lvl    AllPub    Corner       Gtl   \n",
            "4       RL   Pave   NaN      IR1         Lvl    AllPub       FR2       Gtl   \n",
            "\n",
            "  Neighborhood Condition1  ... GarageType GarageFinish GarageQual GarageCond  \\\n",
            "0      CollgCr       Norm  ...     Attchd          RFn         TA         TA   \n",
            "1      Veenker      Feedr  ...     Attchd          RFn         TA         TA   \n",
            "2      CollgCr       Norm  ...     Attchd          RFn         TA         TA   \n",
            "3      Crawfor       Norm  ...     Detchd          Unf         TA         TA   \n",
            "4      NoRidge       Norm  ...     Attchd          RFn         TA         TA   \n",
            "\n",
            "  PavedDrive PoolQC Fence MiscFeature SaleType SaleCondition  \n",
            "0          Y    NaN   NaN         NaN       WD        Normal  \n",
            "1          Y    NaN   NaN         NaN       WD        Normal  \n",
            "2          Y    NaN   NaN         NaN       WD        Normal  \n",
            "3          Y    NaN   NaN         NaN       WD       Abnorml  \n",
            "4          Y    NaN   NaN         NaN       WD        Normal  \n",
            "\n",
            "[5 rows x 43 columns]\n"
          ]
        }
      ]
    },
    {
      "cell_type": "code",
      "source": [
        "categorical_features"
      ],
      "metadata": {
        "colab": {
          "base_uri": "https://localhost:8080/"
        },
        "id": "ikBH8_JRgcgm",
        "outputId": "c43811c5-67f5-4a62-b54a-814f205944e9"
      },
      "execution_count": 16,
      "outputs": [
        {
          "output_type": "execute_result",
          "data": {
            "text/plain": [
              "['MSZoning',\n",
              " 'Street',\n",
              " 'Alley',\n",
              " 'LotShape',\n",
              " 'LandContour',\n",
              " 'Utilities',\n",
              " 'LotConfig',\n",
              " 'LandSlope',\n",
              " 'Neighborhood',\n",
              " 'Condition1',\n",
              " 'Condition2',\n",
              " 'BldgType',\n",
              " 'HouseStyle',\n",
              " 'RoofStyle',\n",
              " 'RoofMatl',\n",
              " 'Exterior1st',\n",
              " 'Exterior2nd',\n",
              " 'MasVnrType',\n",
              " 'ExterQual',\n",
              " 'ExterCond',\n",
              " 'Foundation',\n",
              " 'BsmtQual',\n",
              " 'BsmtCond',\n",
              " 'BsmtExposure',\n",
              " 'BsmtFinType1',\n",
              " 'BsmtFinType2',\n",
              " 'Heating',\n",
              " 'HeatingQC',\n",
              " 'CentralAir',\n",
              " 'Electrical',\n",
              " 'KitchenQual',\n",
              " 'Functional',\n",
              " 'FireplaceQu',\n",
              " 'GarageType',\n",
              " 'GarageFinish',\n",
              " 'GarageQual',\n",
              " 'GarageCond',\n",
              " 'PavedDrive',\n",
              " 'PoolQC',\n",
              " 'Fence',\n",
              " 'MiscFeature',\n",
              " 'SaleType',\n",
              " 'SaleCondition']"
            ]
          },
          "metadata": {},
          "execution_count": 16
        }
      ]
    },
    {
      "cell_type": "code",
      "source": [],
      "metadata": {
        "id": "K8RXTi6EgxbM"
      },
      "execution_count": null,
      "outputs": []
    }
  ]
}